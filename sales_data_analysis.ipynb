{
 "cells": [
  {
   "cell_type": "markdown",
   "metadata": {},
   "source": [
    "# Sales Data Analysis Project\n",
    "## Task 5: Data Analysis on CSV Files\n",
    "\n",
    "This notebook demonstrates basic data analysis using Pandas on sales data."
   ]
  },
  {
   "cell_type": "markdown",
   "metadata": {},
   "source": [
    "### 1. Import Required Libraries"
   ]
  },
  {
   "cell_type": "code",
   "execution_count": null,
   "metadata": {},
   "outputs": [],
   "source": [
    "import pandas as pd\n",
    "import numpy as np\n",
    "import matplotlib.pyplot as plt\n",
    "import seaborn as sns\n",
    "import warnings\n",
    "warnings.filterwarnings('ignore')\n",
    "\n",
    "# Set display options\n",
    "pd.set_option('display.max_columns', None)\n",
    "pd.set_option('display.max_rows', 100)\n",
    "\n",
    "# Set style for plots\n",
    "plt.style.use('seaborn-v0_8')\n",
    "sns.set_palette(\"husl\")"
   ]
  },
  {
   "cell_type": "markdown",
   "metadata": {},
   "source": [
    "### 2. Create Sample Sales Data\n",
    "Since no CSV file is provided, we'll create sample sales data for analysis."
   ]
  },
  {
   "cell_type": "code",
   "execution_count": null,
   "metadata": {},
   "outputs": [],
   "source": [
    "# Create sample sales data\n",
    "import random\n",
    "from datetime import datetime, timedelta\n",
    "\n",
    "# Generate sample data\n",
    "np.random.seed(42)\n",
    "random.seed(42)\n",
    "\n",
    "# Generate date range\n",
    "start_date = datetime(2023, 1, 1)\n",
    "end_date = datetime(2023, 12, 31)\n",
    "date_range = pd.date_range(start=start_date, end=end_date, freq='D')\n",
    "\n",
    "# Sample data\n",
    "products = ['Laptop', 'Mouse', 'Keyboard', 'Monitor', 'Headphones', 'Webcam', 'USB Cable', 'Hard Drive']\n",
    "regions = ['North', 'South', 'East', 'West']\n",
    "salespeople = ['Alice', 'Bob', 'Charlie', 'Diana', 'Eve', 'Frank']\n",
    "\n",
    "# Generate sales records\n",
    "sales_data = []\n",
    "for _ in range(1000):\n",
    "    date = random.choice(date_range)\n",
    "    product = random.choice(products)\n",
    "    region = random.choice(regions)\n",
    "    salesperson = random.choice(salespeople)\n",
    "    quantity = random.randint(1, 10)\n",
    "    unit_price = random.uniform(50, 2000)\n",
    "    total_sales = quantity * unit_price\n",
    "    \n",
    "    sales_data.append({\n",
    "        'Date': date,\n",
    "        'Product': product,\n",
    "        'Region': region,\n",
    "        'Salesperson': salesperson,\n",
    "        'Quantity': quantity,\n",
    "        'Unit_Price': round(unit_price, 2),\n",
    "        'Total_Sales': round(total_sales, 2)\n",
    "    })\n",
    "\n",
    "# Create DataFrame\n",
    "df = pd.DataFrame(sales_data)\n",
    "df['Date'] = pd.to_datetime(df['Date'])\n",
    "\n",
    "# Save to CSV\n",
    "df.to_csv('sales_data.csv', index=False)\n",
    "print(\"Sample sales data created and saved to 'sales_data.csv'\")\n",
    "print(f\"Total records: {len(df)}\")\n",
    "df.head()"
   ]
  },
  {
   "cell_type": "markdown",
   "metadata": {},
   "source": [
    "### 3. Load and Explore the Data"
   ]
  },
  {
   "cell_type": "code",
   "execution_count": null,
   "metadata": {},
   "outputs": [],
   "source": [
    "# Load the CSV file\n",
    "df = pd.read_csv('sales_data.csv')\n",
    "df['Date'] = pd.to_datetime(df['Date'])\n",
    "\n",
    "# Basic information\n",
    "print(\"Dataset Info:\")\n",
    "print(df.info())\n",
    "print(\"\\n\")\n",
    "\n",
    "print(\"Dataset Description:\")\n",
    "print(df.describe())\n",
    "print(\"\\n\")\n",
    "\n",
    "print(\"First 5 rows:\")\n",
    "df.head()"
   ]
  },
  {
   "cell_type": "markdown",
   "metadata": {},
   "source": [
    "### 4. Data Cleaning and Preprocessing"
   ]
  },
  {
   "cell_type": "code",
   "execution_count": null,
   "metadata": {},
   "outputs": [],
   "source": [
    "# Check for missing values\n",
    "print(\"Missing values:\")\n",
    "print(df.isnull().sum())\n",
    "print(\"\\n\")\n",
    "\n",
    "# Check data types\n",
    "print(\"Data types:\")\n",
    "print(df.dtypes)\n",
    "print(\"\\n\")\n",
    "\n",
    "# Add additional columns for analysis\n",
    "df['Year'] = df['Date'].dt.year\n",
    "df['Month'] = df['Date'].dt.month\n",
    "df['Month_Name'] = df['Date'].dt.month_name()\n",
    "df['Quarter'] = df['Date'].dt.quarter\n",
    "df['Day_of_Week'] = df['Date'].dt.day_name()\n",
    "\n",
    "print(\"Data preprocessing complete!\")\n",
    "df.head()"
   ]
  },
  {
   "cell_type": "markdown",
   "metadata": {},
   "source": [
    "### 5. Basic Data Analysis"
   ]
  },
  {
   "cell_type": "code",
   "execution_count": null,
   "metadata": {},
   "outputs": [],
   "source": [
    "# 5.1 Total Sales by Product\n",
    "product_sales = df.groupby('Product')['Total_Sales'].sum().sort_values(ascending=False)\n",
    "print(\"Total Sales by Product:\")\n",
    "print(product_sales)\n",
    "print(\"\\n\")\n",
    "\n",
    "# 5.2 Total Sales by Region\n",
    "region_sales = df.groupby('Region')['Total_Sales'].sum().sort_values(ascending=False)\n",
    "print(\"Total Sales by Region:\")\n",
    "print(region_sales)\n",
    "print(\"\\n\")\n",
    "\n",
    "# 5.3 Total Sales by Salesperson\n",
    "salesperson_sales = df.groupby('Salesperson')['Total_Sales'].sum().sort_values(ascending=False)\n",
    "print(\"Total Sales by Salesperson:\")\n",
    "print(salesperson_sales)\n",
    "print(\"\\n\")\n",
    "\n",
    "# 5.4 Monthly Sales Trend\n",
    "monthly_sales = df.groupby(['Year', 'Month'])['Total_Sales'].sum().reset_index()\n",
    "monthly_sales['Year_Month'] = monthly_sales['Year'].astype(str) + '-' + monthly_sales['Month'].astype(str).str.zfill(2)\n",
    "print(\"Monthly Sales Trend:\")\n",
    "print(monthly_sales.head())"
   ]
  },
  {
   "cell_type": "markdown",
   "metadata": {},
   "source": [
    "### 6. Data Visualization"
   ]
  },
  {
   "cell_type": "code",
   "execution_count": null,
   "metadata": {},
   "outputs": [],
   "source": [
    "# Create subplots\n",
    "fig, axes = plt.subplots(2, 2, figsize=(15, 12))\n",
    "fig.suptitle('Sales Data Analysis Dashboard', fontsize=16, fontweight='bold')\n",
    "\n",
    "# 1. Sales by Product\n",
    "product_sales.plot(kind='bar', ax=axes[0,0], color='skyblue')\n",
    "axes[0,0].set_title('Total Sales by Product')\n",
    "axes[0,0].set_xlabel('Product')\n",
    "axes[0,0].set_ylabel('Total Sales ($)')\n",
    "axes[0,0].tick_params(axis='x', rotation=45)\n",
    "\n",
    "# 2. Sales by Region\n",
    "region_sales.plot(kind='pie', ax=axes[0,1], autopct='%1.1f%%', startangle=90)\n",
    "axes[0,1].set_title('Sales Distribution by Region')\n",
    "axes[0,1].set_ylabel('')\n",
    "\n",
    "# 3. Sales by Salesperson\n",
    "salesperson_sales.head(6).plot(kind='bar', ax=axes[1,0], color='lightgreen')\n",
    "axes[1,0].set_title('Total Sales by Salesperson')\n",
    "axes[1,0].set_xlabel('Salesperson')\n",
    "axes[1,0].set_ylabel('Total Sales ($)')\n",
    "axes[1,0].tick_params(axis='x', rotation=45)\n",
    "\n",
    "# 4. Monthly Sales Trend\n",
    "axes[1,1].plot(monthly_sales['Year_Month'], monthly_sales['Total_Sales'], marker='o', color='coral')\n",
    "axes[1,1].set_title('Monthly Sales Trend')\n",
    "axes[1,1].set_xlabel('Month')\n",
    "axes[1,1].set_ylabel('Total Sales ($)')\n",
    "axes[1,1].tick_params(axis='x', rotation=45)\n",
    "axes[1,1].grid(True, alpha=0.3)\n",
    "\n",
    "plt.tight_layout()\n",
    "plt.show()"
   ]
  },
  {
   "cell_type": "markdown",
   "metadata": {},
   "source": [
    "### 7. Advanced Analysis"
   ]
  },
  {
   "cell_type": "code",
   "execution_count": null,
   "metadata": {},
   "outputs": [],
   "source": [
    "# 7.1 Top performing products by region\n",
    "product_region_sales = df.groupby(['Product', 'Region'])['Total_Sales'].sum().unstack()\n",
    "print(\"Product Sales by Region:\")\n",
    "print(product_region_sales)\n",
    "\n",
    "# 7.2 Average order value\n",
    "avg_order_value = df['Total_Sales'].mean()\n",
    "print(f\"\\nAverage Order Value: ${avg_order_value:.2f}\")\n",
    "\n",
    "# 7.3 Sales performance by quarter\n",
    "quarterly_sales = df.groupby('Quarter')['Total_Sales'].sum()\n",
    "print(\"\\nQuarterly Sales:\")\n",
    "print(quarterly_sales)\n",
    "\n",
    "# 7.4 Best performing salesperson by region\n",
    "best_salesperson = df.groupby(['Region', 'Salesperson'])['Total_Sales'].sum().groupby('Region').idxmax()\n",
    "print(\"\\nBest Salesperson by Region:\")\n",
    "for region, (r, salesperson) in best_salesperson.items():\n",
    "    print(f\"{region}: {salesperson}\")"
   ]
  },
  {
   "cell_type": "markdown",
   "metadata": {},
   "source": [
    "### 8. Summary and Insights"
   ]
  },
  {
   "cell_type": "code",
   "execution_count": null,
   "metadata": {},
   "outputs": [],
   "source": [
    "# Create summary statistics\n",
    "summary = {\n",
    "    'Total Sales': df['Total_Sales'].sum(),\n",
    "    'Average Sales per Transaction': df['Total_Sales'].mean(),\n",
    "    'Total Transactions': len(df),\n",
    "    'Best Selling Product': product_sales.index[0],\n",
    "    'Top Region': region_sales.index[0],\n",
    "    'Top Salesperson': salesperson_sales.index[0],\n",
    "    'Most Active Month': df.groupby('Month_Name').size().idxmax(),\n",
    "    'Peak Quarter': f\"Q{quarterly_sales.idxmax()}\"\n",
    "}\n",
    "\n",
    "print(\"=== SALES DATA INSIGHTS ===\")\n",
    "for key, value in summary.items():\n",
    "    print(f\"{key}: {value}\")\n",
    "\n",
    "# Save summary to file\n",
    "with open('sales_insights.txt', 'w') as f:\n",
    "    f.write(\"=== SALES DATA INSIGHTS ===\\n\")\n",
    "    for key, value in summary.items():\n",
    "        f.write(f\"{key}: {value}\\n\")\n",
    "\n",
    "print(\"\\nInsights saved to 'sales_insights.txt'\")"
   ]
  },
  {
   "cell_type": "markdown",
   "metadata": {},
   "source": [
    "### 9. Export Cleaned Data"
   ]
  },
  {
   "cell_type": "code",
   "execution_count": null,
   "metadata": {},
   "outputs": [],
   "source": [
    "# Export the cleaned and processed data\n",
    "df.to_csv('cleaned_sales_data.csv', index=False)\n",
    "print(\"Cleaned data exported to 'cleaned_sales_data.csv'\")\n",
    "\n",
    "# Create a simple report\n",
    "report = f\"\"\"\n",
    "# Sales Data Analysis Report\n",
    "\n",
    "## Dataset Overview\n",
    "- Total Records: {len(df)}\n",
    "- Date Range: {df['Date'].min()} to {df['Date'].max()}\n",
    "- Products: {len(df['Product'].unique())} unique products\n",
    "- Regions: {len(df['Region'].unique())} regions\n",
    "- Salespeople: {len(df['Salesperson'].unique())} salespeople\n",
    "\n",
    "## Key Findings\n",
    "- Total Revenue: ${df['Total_Sales'].sum():,.2f}\n",
    "- Average Transaction: ${df['Total_Sales'].mean():.2f}\n",
    "- Best Product: {product_sales.index[0]} (${product_sales.iloc[0]:,.2f})\n",
    "- Top Region: {region_sales.index[0]} (${region_sales.iloc[0]:,.2f})\n",
    "- Star Performer: {salesperson_sales.index[0]} (${salesperson_sales.iloc[0]:,.2f})\n",
    "\n",
    "## Files Generated\n",
    "- sales_data.csv: Original dataset\n",
    "- cleaned_sales_data.csv: Processed dataset\n",
    "- sales_insights.txt: Key insights summary\n",
    "\"\"\"\n",
    "\n",
    "with open('analysis_report.md', 'w') as f:\n",
    "    f.write(report)\n",
    "\n",
    "print(\"Analysis report saved to 'analysis_report.md'\")"
   ]
  }
 ],
 "metadata": {
  "kernelspec": {
   "display_name": "Python 3",
   "language": "python",
   "name": "python3"
  },
  "language_info": {
   "codemirror_mode": {
    "name": "ipython",
    "version": 3
   },
   "file_extension": ".py",
   "mimetype": "text/x-python",
   "name": "python",
   "nbconvert_exporter": "python",
   "pygments_lexer": "ipython3",
   "version": "3.8.5"
  }
 },
 "nbformat": 4,
 "nbformat_minor": 4
}
